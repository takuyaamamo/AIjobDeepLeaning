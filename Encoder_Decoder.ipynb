{
  "nbformat": 4,
  "nbformat_minor": 0,
  "metadata": {
    "colab": {
      "name": "Encoder-Decoderタイピング.ipynb",
      "version": "0.3.2",
      "provenance": []
    },
    "kernelspec": {
      "name": "python3",
      "display_name": "Python 3"
    },
    "accelerator": "GPU"
  },
  "cells": [
    {
      "cell_type": "code",
      "metadata": {
        "id": "fShrh8tR3oaF",
        "colab_type": "code",
        "colab": {
          "base_uri": "https://localhost:8080/",
          "height": 34
        },
        "outputId": "dd1efd97-ea0c-4fad-cff8-0429cc07cfc2"
      },
      "source": [
        "from keras.models import Sequential\n",
        "from keras.datasets import mnist\n",
        "from keras.layers import Dense, Activation, Embedding, LSTM, GRU, SimpleRNN\n",
        "from keras.optimizers import Adadelta\n",
        "from keras.utils import np_utils, to_categorical\n",
        "from keras.preprocessing import sequence\n",
        "import numpy as np\n",
        "\n",
        "from matplotlib import pyplot as plt"
      ],
      "execution_count": 1,
      "outputs": [
        {
          "output_type": "stream",
          "text": [
            "Using TensorFlow backend.\n"
          ],
          "name": "stderr"
        }
      ]
    },
    {
      "cell_type": "code",
      "metadata": {
        "id": "Bqeo-nSm3ywo",
        "colab_type": "code",
        "colab": {
          "base_uri": "https://localhost:8080/",
          "height": 68
        },
        "outputId": "dd00323e-7ddd-485f-fd99-487e192003ba"
      },
      "source": [
        "(X_train, y_train_orig), (X_test, y_test_orig) = mnist.load_data()\n",
        "X_train = X_train.reshape(X_train.shape[0], 28, 28, 1).astype(\"float32\")\n",
        "X_train /= 255.0\n",
        "X_test = X_test.reshape(X_test.shape[0], 28, 28, 1).astype(\"float32\")\n",
        "X_test /= 255.0\n",
        "print(X_train.shape)"
      ],
      "execution_count": 2,
      "outputs": [
        {
          "output_type": "stream",
          "text": [
            "Downloading data from https://s3.amazonaws.com/img-datasets/mnist.npz\n",
            "11493376/11490434 [==============================] - 1s 0us/step\n",
            "(60000, 28, 28, 1)\n"
          ],
          "name": "stdout"
        }
      ]
    },
    {
      "cell_type": "code",
      "metadata": {
        "id": "vWlHK7Y935Xg",
        "colab_type": "code",
        "colab": {
          "base_uri": "https://localhost:8080/",
          "height": 1000
        },
        "outputId": "13dc55dc-9e46-4e88-bb5c-9c770926e36f"
      },
      "source": [
        "import string\n",
        "chars = [x for x in string.ascii_letters][:26]\n",
        "chars.insert(0, '$')\n",
        "print(chars)\n",
        "\n",
        "# 文字数を揃えている\n",
        "labels = ['zero$', 'one$$', 'two$$', 'three', 'four$', 'five$', 'six$$', 'seven', 'eight', 'nine$']\n",
        "\n",
        "\n",
        "def convert_features(y):\n",
        "    y_tmp = []\n",
        "\n",
        "    for x in y:\n",
        "        v = list(labels[x])\n",
        "        v = [chars.index(x) for x in list(labels[x])]\n",
        "        y_tmp.append(v)\n",
        "\n",
        "    return y_tmp\n",
        "\n",
        "maxlen=5\n",
        "y_train = convert_features(y_train_orig)\n",
        "y_train = sequence.pad_sequences(y_train, maxlen=maxlen)\n",
        "y_train = to_categorical(y_train)\n",
        "\n",
        "y_test = convert_features(y_test_orig)\n",
        "y_test = sequence.pad_sequences(y_train, maxlen=maxlen)\n",
        "y_test = to_categorical(y_test)\n",
        "\n",
        "print(y_test[0])"
      ],
      "execution_count": 3,
      "outputs": [
        {
          "output_type": "stream",
          "text": [
            "['$', 'a', 'b', 'c', 'd', 'e', 'f', 'g', 'h', 'i', 'j', 'k', 'l', 'm', 'n', 'o', 'p', 'q', 'r', 's', 't', 'u', 'v', 'w', 'x', 'y', 'z']\n",
            "[[[1. 0.]\n",
            "  [1. 0.]\n",
            "  [1. 0.]\n",
            "  [1. 0.]\n",
            "  [1. 0.]\n",
            "  [1. 0.]\n",
            "  [0. 1.]\n",
            "  [1. 0.]\n",
            "  [1. 0.]\n",
            "  [1. 0.]\n",
            "  [1. 0.]\n",
            "  [1. 0.]\n",
            "  [1. 0.]\n",
            "  [1. 0.]\n",
            "  [1. 0.]\n",
            "  [1. 0.]\n",
            "  [1. 0.]\n",
            "  [1. 0.]\n",
            "  [1. 0.]\n",
            "  [1. 0.]\n",
            "  [1. 0.]\n",
            "  [1. 0.]\n",
            "  [1. 0.]\n",
            "  [1. 0.]\n",
            "  [1. 0.]\n",
            "  [1. 0.]\n",
            "  [1. 0.]]\n",
            "\n",
            " [[1. 0.]\n",
            "  [1. 0.]\n",
            "  [1. 0.]\n",
            "  [1. 0.]\n",
            "  [1. 0.]\n",
            "  [1. 0.]\n",
            "  [1. 0.]\n",
            "  [1. 0.]\n",
            "  [1. 0.]\n",
            "  [0. 1.]\n",
            "  [1. 0.]\n",
            "  [1. 0.]\n",
            "  [1. 0.]\n",
            "  [1. 0.]\n",
            "  [1. 0.]\n",
            "  [1. 0.]\n",
            "  [1. 0.]\n",
            "  [1. 0.]\n",
            "  [1. 0.]\n",
            "  [1. 0.]\n",
            "  [1. 0.]\n",
            "  [1. 0.]\n",
            "  [1. 0.]\n",
            "  [1. 0.]\n",
            "  [1. 0.]\n",
            "  [1. 0.]\n",
            "  [1. 0.]]\n",
            "\n",
            " [[1. 0.]\n",
            "  [1. 0.]\n",
            "  [1. 0.]\n",
            "  [1. 0.]\n",
            "  [1. 0.]\n",
            "  [1. 0.]\n",
            "  [1. 0.]\n",
            "  [1. 0.]\n",
            "  [1. 0.]\n",
            "  [1. 0.]\n",
            "  [1. 0.]\n",
            "  [1. 0.]\n",
            "  [1. 0.]\n",
            "  [1. 0.]\n",
            "  [1. 0.]\n",
            "  [1. 0.]\n",
            "  [1. 0.]\n",
            "  [1. 0.]\n",
            "  [1. 0.]\n",
            "  [1. 0.]\n",
            "  [1. 0.]\n",
            "  [1. 0.]\n",
            "  [0. 1.]\n",
            "  [1. 0.]\n",
            "  [1. 0.]\n",
            "  [1. 0.]\n",
            "  [1. 0.]]\n",
            "\n",
            " [[1. 0.]\n",
            "  [1. 0.]\n",
            "  [1. 0.]\n",
            "  [1. 0.]\n",
            "  [1. 0.]\n",
            "  [0. 1.]\n",
            "  [1. 0.]\n",
            "  [1. 0.]\n",
            "  [1. 0.]\n",
            "  [1. 0.]\n",
            "  [1. 0.]\n",
            "  [1. 0.]\n",
            "  [1. 0.]\n",
            "  [1. 0.]\n",
            "  [1. 0.]\n",
            "  [1. 0.]\n",
            "  [1. 0.]\n",
            "  [1. 0.]\n",
            "  [1. 0.]\n",
            "  [1. 0.]\n",
            "  [1. 0.]\n",
            "  [1. 0.]\n",
            "  [1. 0.]\n",
            "  [1. 0.]\n",
            "  [1. 0.]\n",
            "  [1. 0.]\n",
            "  [1. 0.]]\n",
            "\n",
            " [[0. 1.]\n",
            "  [1. 0.]\n",
            "  [1. 0.]\n",
            "  [1. 0.]\n",
            "  [1. 0.]\n",
            "  [1. 0.]\n",
            "  [1. 0.]\n",
            "  [1. 0.]\n",
            "  [1. 0.]\n",
            "  [1. 0.]\n",
            "  [1. 0.]\n",
            "  [1. 0.]\n",
            "  [1. 0.]\n",
            "  [1. 0.]\n",
            "  [1. 0.]\n",
            "  [1. 0.]\n",
            "  [1. 0.]\n",
            "  [1. 0.]\n",
            "  [1. 0.]\n",
            "  [1. 0.]\n",
            "  [1. 0.]\n",
            "  [1. 0.]\n",
            "  [1. 0.]\n",
            "  [1. 0.]\n",
            "  [1. 0.]\n",
            "  [1. 0.]\n",
            "  [1. 0.]]]\n"
          ],
          "name": "stdout"
        }
      ]
    },
    {
      "cell_type": "code",
      "metadata": {
        "id": "Mso_HRym6E32",
        "colab_type": "code",
        "colab": {}
      },
      "source": [
        "from keras.layers import Dense, Conv2D, BatchNormalization\n",
        "from keras.layers import Activation, Flatten, Dropout, UpSampling2D, MaxPooling2D, Reshape, GlobalAveragePooling2D\n",
        "\n",
        "from keras.layers.core import RepeatVector\n",
        "from keras.layers.recurrent import LSTM\n",
        "from keras.layers.wrappers import TimeDistributed"
      ],
      "execution_count": 0,
      "outputs": []
    },
    {
      "cell_type": "code",
      "metadata": {
        "id": "qUq9XyA66WNx",
        "colab_type": "code",
        "colab": {
          "base_uri": "https://localhost:8080/",
          "height": 476
        },
        "outputId": "2730c15a-78a1-4bdc-ceb5-9ef47fde9e2a"
      },
      "source": [
        "model = Sequential()\n",
        "batch_size = 16\n",
        "\n",
        "# Encoder,CNN\n",
        "model.add(Conv2D(16, (3,3), activation='relu', input_shape=(28, 28, 1)))\n",
        "model.add(MaxPooling2D())\n",
        "model.add(Conv2D(32, (3,3), activation='relu'))\n",
        "model.add(MaxPooling2D())\n",
        "model.add(Conv2D(64, (3,3), activation='relu'))\n",
        "model.add(GlobalAveragePooling2D())\n",
        "\n",
        "# Decoder,LSTM\n",
        "n_output = 26+1\n",
        "n_hidden = 64\n",
        "# RepeatVectorは、inputとして入ってくるベクトルを、指定した数だけ繰り返すラッパー\n",
        "model.add(RepeatVector(maxlen))\n",
        "model.add(LSTM(n_hidden,\n",
        "                          return_sequences=True,\n",
        "                          batch_size=batch_size))\n",
        "# TimeDistributedは、入力されたシーケンスの各時刻に同様のネットワーク構造を付加できるラッパー\n",
        "model.add(TimeDistributed(Dense(n_output)))\n",
        "model.add(Activation('softmax'))\n",
        "model.compile(loss='categorical_crossentropy',\n",
        "                        optimizer='adam',\n",
        "                        metrics=['accuracy'])\n",
        "model.summary()"
      ],
      "execution_count": 6,
      "outputs": [
        {
          "output_type": "stream",
          "text": [
            "_________________________________________________________________\n",
            "Layer (type)                 Output Shape              Param #   \n",
            "=================================================================\n",
            "conv2d_4 (Conv2D)            (None, 26, 26, 16)        160       \n",
            "_________________________________________________________________\n",
            "max_pooling2d_3 (MaxPooling2 (None, 13, 13, 16)        0         \n",
            "_________________________________________________________________\n",
            "conv2d_5 (Conv2D)            (None, 11, 11, 32)        4640      \n",
            "_________________________________________________________________\n",
            "max_pooling2d_4 (MaxPooling2 (None, 5, 5, 32)          0         \n",
            "_________________________________________________________________\n",
            "conv2d_6 (Conv2D)            (None, 3, 3, 64)          18496     \n",
            "_________________________________________________________________\n",
            "global_average_pooling2d_2 ( (None, 64)                0         \n",
            "_________________________________________________________________\n",
            "repeat_vector_2 (RepeatVecto (None, 5, 64)             0         \n",
            "_________________________________________________________________\n",
            "lstm_2 (LSTM)                (None, 5, 64)             33024     \n",
            "_________________________________________________________________\n",
            "time_distributed_2 (TimeDist (None, 5, 27)             1755      \n",
            "_________________________________________________________________\n",
            "activation_2 (Activation)    (None, 5, 27)             0         \n",
            "=================================================================\n",
            "Total params: 58,075\n",
            "Trainable params: 58,075\n",
            "Non-trainable params: 0\n",
            "_________________________________________________________________\n"
          ],
          "name": "stdout"
        }
      ]
    },
    {
      "cell_type": "code",
      "metadata": {
        "id": "Dhcy0BlB9GzM",
        "colab_type": "code",
        "colab": {
          "base_uri": "https://localhost:8080/",
          "height": 204
        },
        "outputId": "1500817d-8fa7-4548-e17f-ea557fd50989"
      },
      "source": [
        "print(y_train_orig[0])\n",
        "print(y_train[0])"
      ],
      "execution_count": 8,
      "outputs": [
        {
          "output_type": "stream",
          "text": [
            "5\n",
            "[[0. 0. 0. 0. 0. 0. 1. 0. 0. 0. 0. 0. 0. 0. 0. 0. 0. 0. 0. 0. 0. 0. 0. 0.\n",
            "  0. 0. 0.]\n",
            " [0. 0. 0. 0. 0. 0. 0. 0. 0. 1. 0. 0. 0. 0. 0. 0. 0. 0. 0. 0. 0. 0. 0. 0.\n",
            "  0. 0. 0.]\n",
            " [0. 0. 0. 0. 0. 0. 0. 0. 0. 0. 0. 0. 0. 0. 0. 0. 0. 0. 0. 0. 0. 0. 1. 0.\n",
            "  0. 0. 0.]\n",
            " [0. 0. 0. 0. 0. 1. 0. 0. 0. 0. 0. 0. 0. 0. 0. 0. 0. 0. 0. 0. 0. 0. 0. 0.\n",
            "  0. 0. 0.]\n",
            " [1. 0. 0. 0. 0. 0. 0. 0. 0. 0. 0. 0. 0. 0. 0. 0. 0. 0. 0. 0. 0. 0. 0. 0.\n",
            "  0. 0. 0.]]\n"
          ],
          "name": "stdout"
        }
      ]
    },
    {
      "cell_type": "code",
      "metadata": {
        "id": "FjEQ-Zw897br",
        "colab_type": "code",
        "colab": {
          "base_uri": "https://localhost:8080/",
          "height": 326
        },
        "outputId": "a33ad05d-0f76-41a8-af27-ab28f51dfbc0"
      },
      "source": [
        "model.fit(X_train, y_train,\n",
        "         batch_size = batch_size,\n",
        "         epochs = 5,\n",
        "         validation_split = 0.1)"
      ],
      "execution_count": 9,
      "outputs": [
        {
          "output_type": "stream",
          "text": [
            "W0703 08:34:29.234090 140268107184000 deprecation.py:323] From /usr/local/lib/python3.6/dist-packages/tensorflow/python/ops/math_grad.py:1250: add_dispatch_support.<locals>.wrapper (from tensorflow.python.ops.array_ops) is deprecated and will be removed in a future version.\n",
            "Instructions for updating:\n",
            "Use tf.where in 2.0, which has the same broadcast rule as np.where\n",
            "W0703 08:34:29.939938 140268107184000 deprecation_wrapper.py:119] From /usr/local/lib/python3.6/dist-packages/keras/backend/tensorflow_backend.py:986: The name tf.assign_add is deprecated. Please use tf.compat.v1.assign_add instead.\n",
            "\n"
          ],
          "name": "stderr"
        },
        {
          "output_type": "stream",
          "text": [
            "Train on 54000 samples, validate on 6000 samples\n",
            "Epoch 1/5\n",
            "54000/54000 [==============================] - 50s 932us/step - loss: 0.5004 - acc: 0.8435 - val_loss: 0.1007 - val_acc: 0.9711\n",
            "Epoch 2/5\n",
            "54000/54000 [==============================] - 47s 862us/step - loss: 0.0953 - acc: 0.9707 - val_loss: 0.0581 - val_acc: 0.9826\n",
            "Epoch 3/5\n",
            "54000/54000 [==============================] - 47s 863us/step - loss: 0.0619 - acc: 0.9811 - val_loss: 0.0372 - val_acc: 0.9885\n",
            "Epoch 4/5\n",
            "54000/54000 [==============================] - 47s 862us/step - loss: 0.0463 - acc: 0.9858 - val_loss: 0.0490 - val_acc: 0.9858\n",
            "Epoch 5/5\n",
            "54000/54000 [==============================] - 47s 867us/step - loss: 0.0366 - acc: 0.9886 - val_loss: 0.0352 - val_acc: 0.9904\n"
          ],
          "name": "stdout"
        },
        {
          "output_type": "execute_result",
          "data": {
            "text/plain": [
              "<keras.callbacks.History at 0x7f92689264a8>"
            ]
          },
          "metadata": {
            "tags": []
          },
          "execution_count": 9
        }
      ]
    },
    {
      "cell_type": "code",
      "metadata": {
        "id": "M38OdvY0-MNA",
        "colab_type": "code",
        "colab": {}
      },
      "source": [
        "def vector_to_text(vec):\n",
        "    text = ''\n",
        "    for v in vec:\n",
        "        if v != 0:\n",
        "            print(chars[v])\n",
        "            text += chars[v]\n",
        "\n",
        "    return text"
      ],
      "execution_count": 0,
      "outputs": []
    },
    {
      "cell_type": "code",
      "metadata": {
        "id": "ucA3xcvw-87C",
        "colab_type": "code",
        "colab": {
          "base_uri": "https://localhost:8080/",
          "height": 34
        },
        "outputId": "1331aba2-6359-47f0-b642-57688355fcb1"
      },
      "source": [
        "results = model.predict_classes(X_test)\n",
        "print(results[0])"
      ],
      "execution_count": 15,
      "outputs": [
        {
          "output_type": "stream",
          "text": [
            "[19  5 22  5 14]\n"
          ],
          "name": "stdout"
        }
      ]
    },
    {
      "cell_type": "code",
      "metadata": {
        "id": "Tt44UMrk_BSH",
        "colab_type": "code",
        "colab": {
          "base_uri": "https://localhost:8080/",
          "height": 354
        },
        "outputId": "c8806b81-2542-414a-ce64-5c0c11b74f80"
      },
      "source": [
        "from matplotlib import cm\n",
        "\n",
        "# ここの数字を変えるとテストデータを変えられる\n",
        "test_index = 10\n",
        "\n",
        "result = results[test_index]\n",
        "plt.imshow(X_test[test_index].reshape(28, 28), cmap=cm.gray_r)\n",
        "plt.show()\n",
        "print('predicted = ', vector_to_text(result))"
      ],
      "execution_count": 22,
      "outputs": [
        {
          "output_type": "display_data",
          "data": {
            "image/png": "[encoded data removed]",
            "text/plain": [
              "<Figure size 432x288 with 1 Axes>"
            ]
          },
          "metadata": {
            "tags": []
          }
        },
        {
          "output_type": "stream",
          "text": [
            "z\n",
            "e\n",
            "r\n",
            "o\n",
            "predicted =  zero\n"
          ],
          "name": "stdout"
        }
      ]
    }
  ]
}