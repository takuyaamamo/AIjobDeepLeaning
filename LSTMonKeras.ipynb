{
 "cells": [
  {
   "cell_type": "code",
   "execution_count": 28,
   "metadata": {
    "colab": {
     "base_uri": "https://localhost:8080/",
     "height": 34
    },
    "colab_type": "code",
    "id": "RrheoSPAgbSZ",
    "outputId": "41998246-f7eb-44fd-b402-16f16273600c"
   },
   "outputs": [
    {
     "name": "stdout",
     "output_type": "stream",
     "text": [
      "Requirement already satisfied: numpy==1.16.1 in /usr/local/lib/python3.6/dist-packages (1.16.1)\n"
     ]
    }
   ],
   "source": [
    "# なむパイのバージョンを上げる\n",
    "! pip install numpy==1.16.1"
   ]
  },
  {
   "cell_type": "code",
   "execution_count": null,
   "metadata": {
    "colab": {},
    "colab_type": "code",
    "id": "kUaVGwuGriva"
   },
   "outputs": [],
   "source": [
    "from keras.models import Sequential\n",
    "from keras.datasets import imdb\n",
    "from keras.layers import Dense, Activation, Embedding, LSTM, GRU, SimpleRNN\n",
    "from keras.optimizers import Adadelta\n",
    "from keras.utils import np_utils, to_categorical\n",
    "from keras.preprocessing import sequence\n",
    "import numpy as np\n",
    "\n",
    "from matplotlib import pyplot as plt"
   ]
  },
  {
   "cell_type": "code",
   "execution_count": null,
   "metadata": {
    "colab": {},
    "colab_type": "code",
    "id": "qIt9B1uVr6SH"
   },
   "outputs": [],
   "source": [
    "# よく使う単語上位20000を定義\n",
    "max_features = 20000\n",
    "\n",
    "# 映画の評価が書いてあるデータこれを使用してポジティブネガティブ診断を行う\n",
    "(X_train, y_train), (X_test, y_test) = imdb.load_data(num_words = max_features)\n",
    "\n",
    "max_len  = 180\n",
    "X_train = sequence.pad_sequences(X_train, maxlen = max_len)\n",
    "X_test = sequence.pad_sequences(X_test, maxlen = max_len)"
   ]
  },
  {
   "cell_type": "code",
   "execution_count": 31,
   "metadata": {
    "colab": {
     "base_uri": "https://localhost:8080/",
     "height": 377
    },
    "colab_type": "code",
    "id": "2BKHujMXvqOC",
    "outputId": "e49ea82e-ef0a-4c13-ca78-785c23393ffb"
   },
   "outputs": [
    {
     "name": "stdout",
     "output_type": "stream",
     "text": [
      "positive\n",
      "father came from the same scottish island as myself so i loved the fact there was a real connection with this film the witty remarks throughout the film were great it was just brilliant so much that i bought the film as soon as it was released for retail and would recommend it to everyone to watch and the fly fishing was amazing really cried at the end it was so sad and you know what they say if you cry at a film it must have been good and this definitely was also congratulations to the two little boy's that played the ? of norman and paul they were just brilliant children are often left out of the praising list i think because the stars that play them all grown up are such a big profile for the whole film but these children are amazing and should be praised for what they have done don't you think the whole story was so lovely because it was true and was someone's life after all that was shared with us all\n",
      "negative\n",
      "giant safety pin these are the words to best describe this terrible movie i love cheesy horror movies and i've seen hundreds but this had got to be on of the worst ever made the plot is paper thin and ridiculous the acting is an abomination the script is completely laughable the best is the end showdown with the cop and how he worked out who the killer is it's just so damn terribly written the clothes are sickening and funny in equal measures the hair is big lots of boobs bounce men wear those cut tee shirts that show off their ? sickening that men actually wore them and the music is just ? trash that plays over and over again in almost every scene there is trashy music boobs and ? taking away bodies and the gym still doesn't close for ? all joking aside this is a truly bad film whose only charm is to look back on the disaster that was the 80's and have a good old laugh at how bad everything was back then\n",
      "negative\n",
      "? ? ? ? ? ? ? ? ? ? ? ? ? ? ? ? ? ? ? ? ? ? ? ? ? ? ? ? ? ? ? ? ? ? ? ? ? ? ? ? this has to be one of the worst films of the 1990s when my friends i were watching this film being the target audience it was aimed at we just sat watched the first half an hour with our jaws touching the floor at how bad it really was the rest of the time everyone else in the theatre just started talking to each other leaving or generally crying into their popcorn that they actually paid money they had ? working to watch this feeble excuse for a film it must have looked like a great idea on paper but on film it looks like no one in the film has a clue what is going on crap acting crap costumes i can't get across how ? this is to watch save yourself an hour a bit of your life\n",
      "positive\n",
      "one of ? most ? mountains can the truth be told or is it all in stories br br in this story about stories we revisit bloody battles poisoned lovers the folklore of old and the sometimes more treacherous folklore of accepted truth in doing so we each connect with angus as he lives the story of his own life br br ? the ? pinnacle is probably the most honest unpretentious and genuinely beautiful film of scotland ever made like angus i got slightly annoyed with the pretext of hanging stories on more stories but also like angus i ? this once i saw the ? picture ' forget the box office pastiche of braveheart and its like you might even ? the justly famous ? of the wicker man to see a film that is true to scotland this one is probably unique if you maybe ? on it deeply enough you might even re evaluate the power of storytelling and the age old question of whether there are some truths that cannot be told but only experienced\n",
      "negative\n",
      "? ? ? ? ? ? ? ? ? ? ? ? ? ? ? ? ? ? ? ? ? ? ? ? ? ? ? ? ? ? ? ? ? ? worst mistake of my life br br i picked this movie up at target for 5 because i figured hey it's sandler i can get some cheap laughs i was wrong completely wrong mid way through the film all three of my friends were asleep and i was still suffering worst plot worst script worst movie i have ever seen i wanted to hit my head up against a wall for an hour then i'd stop and you know why because it felt damn good upon bashing my head in i stuck that damn movie in the ? and watched it burn and that felt better than anything else i've ever done it took american psycho army of darkness and kill bill just to get over that crap i hate you sandler for actually going through with this and ruining a whole day of my life\n",
      "negative\n",
      "? ? ? ? ? ? ? ? ? ? ? ? ? ? ? ? ? ? ? ? ? ? ? ? ? ? ? ? ? ? ? ? ? ? ? ? ? ? ? ? ? ? ? ? ? ? ? ? ? ? ? ? ? ? ? ? ? ? ? ? ? ? ? ? ? ? ? ? ? ? ? ? ? ? ? ? ? ? ? ? ? ? ? ? ? ? ? ? ? ? ? ? ? ? ? ? ? ? ? ? ? ? ? ? ? ? ? ? ? ? ? ? ? ? ? ? ? ? ? ? ? ? ? ? ? ? ? ? ? ? ? ? ? ? ? ? ? ? begins better than it ends funny that the russian submarine crew ? all other actors it's like those scenes where documentary shots br br spoiler part the message ? was contrary to the whole story it just does not mesh br br\n",
      "positive\n",
      "? ? ? ? ? ? ? ? ? ? ? ? ? ? ? ? ? ? ? ? ? ? ? ? ? ? ? ? ? ? ? ? ? ? ? ? ? ? ? ? ? ? ? ? ? ? ? ? ? ? ? ? ? ? ? ? ? ? lavish production values and solid performances in this straightforward adaption of jane austen's satirical classic about the marriage game within and between the classes in provincial 18th century england northam and paltrow are a ? mixture as friends who must pass through ? and lies to discover that they love each other good humor is a ? virtue which goes a long way towards explaining the ? of the aged source material which has been toned down a bit in its harsh ? i liked the look of the film and how shots were set up and i thought it didn't rely too much on ? of head shots like most other films of the 80s and 90s do very good results\n",
      "negative\n",
      "directed by the extreme sounding butcher brothers there's no gore here there's a bit of blood splatter a few scenes of girls chained up in a basement but nothing you couldn't do at home yourself with a bottle of tomato ketchup a camcorder the film is neither scary since it's got a very middle class suburban setting there's zero atmosphere or mood there's a lesbian suggest incestuous kiss but the hamiltons is low on the exploitation scale there's not much here for the horror crowd br br filmed in ? in california this has that modern low budget look about it it's not badly made but rather forgettable the acting by an unknown to me cast is nothing to write home about i can't say i ever felt anything for anyone br br the hamiltons commits the cardinal sin of being both dull boring from which it never recovers add to that an ultra thin story no gore a rubbish ending character's who you don't give a toss about you have a film that did not impress me at all\n",
      "positive\n",
      "it first came out and this movie is doing to me now i didn't know a thing about this before going into it and what a surprise if you hear the concept you might get the feeling that this is one of those touchy movies about an amazing triumph covered with over the top music and trying to have us fully convinced of what a great story it is telling but then not letting us in ? this is not that movie the people tell the story this does such a good job of capturing every moment of their involvement while we enter their world and feel every second with them there is so much beyond the climb that makes everything they go through so much more tense touching the void was also a great doc about mountain climbing and showing the intensity in an engaging way but this film is much more of a human story i just saw it today but i will go and say that this is one of the best documentaries i have ever seen\n",
      "negative\n",
      "? ? ? ? ? ? ? ? ? ? ? ? ? ? ? ? ? ? ? ? ? ? ? ? ? ? ? ? ? ? ? ? ? ? ? ? ? ? ? ? ? ? ? ? ? ? ? ? ? ? ? this movie has many problem associated with it that makes it come off like a low budget class project from someone in film school i have to give it credit on its campiness though many times throughout the movie i found myself laughing hysterically it was so bad at times that it was comical which made it a fun watch br br if you're looking for a low grade slasher movie with a twist of psychological horror and a dash of campy ridiculousness then pop a bowl of popcorn invite some friends over and have some fun br br i agree with other comments that the sound is very bad dialog is next to impossible to follow much of the time and the soundtrack is kind of just there\n"
     ]
    }
   ],
   "source": [
    "# 単語に対するインデックスが入っている、元の文章にふくげんする必要がある\n",
    "print;(X_train[0])\n",
    "\n",
    "# 復元\n",
    "word_index = imdb.get_word_index()\n",
    "reverse_word_index = dict([(value, key) for (key, value) in word_index.items()])\n",
    "\n",
    "for k in range(10):\n",
    "#   上位2万件に入らなかった単語は?に変えられる、行列に入れるため長さを統一するために180単語に合わせるために?で補っている\n",
    "# LSTMの特性で頭の方の情報は忘れやすいため頭の方に?を付けるようにする\n",
    "    decoded_review = ' '.join([reverse_word_index.get(i - 3, '?') for i in X_train[k]])\n",
    "    if y_train[k] == 1:\n",
    "        print('positive')\n",
    "    else:\n",
    "        print('negative')\n",
    "    print(decoded_review)"
   ]
  },
  {
   "cell_type": "code",
   "execution_count": null,
   "metadata": {
    "colab": {},
    "colab_type": "code",
    "id": "uz2e6ubZwx1F"
   },
   "outputs": [],
   "source": [
    "# 正解クラスをone-hotエンコーディングして出力\n",
    "y_train = to_categorical(y_train, 2)\n",
    "y_test = to_categorical(y_test, 2)"
   ]
  },
  {
   "cell_type": "code",
   "execution_count": null,
   "metadata": {
    "colab": {
     "base_uri": "https://localhost:8080/",
     "height": 102
    },
    "colab_type": "code",
    "id": "FaUsPdszwGG9",
    "outputId": "44e9edbf-acb9-4f59-d5e9-60c86a0b4bb6"
   },
   "outputs": [
    {
     "name": "stdout",
     "output_type": "stream",
     "text": [
      "Train on 22500 samples, validate on 2500 samples\n",
      "Epoch 1/5\n",
      "22500/22500 [==============================] - 24s 1ms/step - loss: 0.4994 - acc: 0.7488 - val_loss: 0.3274 - val_acc: 0.8684\n",
      "Epoch 2/5\n",
      "12800/22500 [================>.............] - ETA: 9s - loss: 0.2318 - acc: 0.9114"
     ]
    }
   ],
   "source": [
    "model = Sequential()\n",
    "\n",
    "# Embeddingで単語に適当なベクトルを与えている\n",
    "model.add(Embedding(input_dim = max_features,\n",
    "                    output_dim = 128,\n",
    "                    input_length = max_len))\n",
    "\n",
    "# 最後の入力だけが欲しいので return_sequences = False\n",
    "model.add(LSTM(32, return_sequences = False))\n",
    "# Encoder-Decoderのため２つ用意する\n",
    "model.add(Dense(2))\n",
    "model.add(Activation('softmax'))\n",
    "model.compile(loss = 'categorical_crossentropy',\n",
    "             optimizer = 'adam',\n",
    "             metrics = ['accuracy'])\n",
    "model.fit(X_train, y_train, batch_size = 256, epochs = 5, validation_split = 0.1)"
   ]
  },
  {
   "cell_type": "code",
   "execution_count": null,
   "metadata": {
    "colab": {},
    "colab_type": "code",
    "id": "oDrnI65J04RG"
   },
   "outputs": [],
   "source": [
    "# positive\n",
    "# test_sentence = \"It is a wonderful movie that I want to go to see again\"\n",
    "\n",
    "# negative\n",
    "test_sentence = \"This movie is really terrible\"\n",
    "\n",
    "def split_text(text):\n",
    "    result = []\n",
    "    for word in text.split():\n",
    "        word = word.lower()  \n",
    "    \n",
    "        try:\n",
    "            index = word_index[word]\n",
    "        except(KeyError):\n",
    "            index = 0\n",
    "        result.append(index)\n",
    "      \n",
    "    return result\n",
    "\n",
    "x = [split_text(test_sentence)]\n",
    "# シーケンスを同じ長さになるように詰めます．\n",
    "x = sequence.pad_sequences(x, maxlen=max_len)\n",
    "print(x)\n",
    "\n",
    "# 入力サンプルに対する予測値の出力を生成します．\n",
    "y = model.predict(x)\n",
    "print(y)"
   ]
  }
 ],
 "metadata": {
  "accelerator": "GPU",
  "colab": {
   "collapsed_sections": [],
   "name": "KerasによるLSTMタイピング.ipynb",
   "provenance": [],
   "version": "0.3.2"
  },
  "kernelspec": {
   "display_name": "Python 3",
   "language": "python",
   "name": "python3"
  },
  "language_info": {
   "codemirror_mode": {
    "name": "ipython",
    "version": 3
   },
   "file_extension": ".py",
   "mimetype": "text/x-python",
   "name": "python",
   "nbconvert_exporter": "python",
   "pygments_lexer": "ipython3",
   "version": "3.7.3"
  }
 },
 "nbformat": 4,
 "nbformat_minor": 2
}
